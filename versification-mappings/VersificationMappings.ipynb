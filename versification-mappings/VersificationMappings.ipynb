{
 "cells": [
  {
   "cell_type": "markdown",
   "metadata": {},
   "source": [
    "# Copenhagen Alliance Versification Mappings\n",
    "\n",
    "This Jupyter Notebook shows how to use the [Copenhagen Alliance Versification Mappings](https://github.com/Copenhagen-Alliance/versification-specification).\n"
   ]
  },
  {
   "cell_type": "markdown",
   "metadata": {},
   "source": [
    "# `org.json` - the base versification scheme\n",
    "\n",
    "The `org.json` file contains a base versification that all other versifications map to and from."
   ]
  },
  {
   "cell_type": "code",
   "execution_count": 33,
   "metadata": {},
   "outputs": [],
   "source": [
    "import json\n",
    "with open(\"standard-mappings/org.json\", \"r\") as read_file:\n",
    "    org = json.load(read_file)"
   ]
  },
  {
   "cell_type": "code",
   "execution_count": 32,
   "metadata": {},
   "outputs": [
    {
     "name": "stdout",
     "output_type": "stream",
     "text": [
      "dict_keys(['maxVerses', 'mappedVerses', 'excludedVerses', 'partialVerses'])\n"
     ]
    }
   ],
   "source": [
    "    # top level keys\n",
    "    print(org.keys())"
   ]
  },
  {
   "cell_type": "markdown",
   "metadata": {},
   "source": [
    "## `maxVerses` - how many verses are in each book?"
   ]
  },
  {
   "cell_type": "markdown",
   "metadata": {},
   "source": [
    "What books are described by this mapping?"
   ]
  },
  {
   "cell_type": "code",
   "execution_count": 35,
   "metadata": {},
   "outputs": [
    {
     "name": "stdout",
     "output_type": "stream",
     "text": [
      "dict_keys(['GEN', 'EXO', 'LEV', 'NUM', 'DEU', 'JOS', 'JDG', 'RUT', '1SA', '2SA', '1KI', '2KI', '1CH', '2CH', 'EZR', 'NEH', 'EST', 'JOB', 'PSA', 'PRO', 'ECC', 'SNG', 'ISA', 'JER', 'LAM', 'EZK', 'DAN', 'HOS', 'JOL', 'AMO', 'OBA', 'JON', 'MIC', 'NAM', 'HAB', 'ZEP', 'HAG', 'ZEC', 'MAL', 'MAT', 'MRK', 'LUK', 'JHN', 'ACT', 'ROM', '1CO', '2CO', 'GAL', 'EPH', 'PHP', 'COL', '1TH', '2TH', '1TI', '2TI', 'TIT', 'PHM', 'HEB', 'JAS', '1PE', '2PE', '1JN', '2JN', '3JN', 'JUD', 'REV', 'TOB', 'JDT', 'ESG', 'WIS', 'SIR', 'BAR', 'LJE', 'S3Y', 'SUS', 'BEL', '1MA', '2MA', '3MA', '4MA', '1ES', '2ES', 'MAN', 'PS2', 'ODA', 'PSS', 'JSA', 'JDB', 'TBS', 'SST', 'DNT', 'BLT', 'EZA', 'JUB', 'ENO'])\n"
     ]
    }
   ],
   "source": [
    "    print(org[\"maxVerses\"].keys())"
   ]
  },
  {
   "cell_type": "markdown",
   "metadata": {},
   "source": [
    "The following books are Deuterocanonical books from the LXX which are in the Catholic tradition: TOB, JDT, ESG (Esther Greek), WIS, SIR, BAR, LJE, S3Y, SUS, BEL, 1MA, 2MA.\n",
    "\n",
    "The following are additional Orthodox books from the LXX: 3MA, 4MA, 1ES, MAN, PS2.\n",
    "\n",
    "ODA and PSS are only in the LXX and SYR projects.\n",
    "\n",
    "EZA is the Apocalypse of Ezra.\n",
    "\n",
    "Jubilees and Enoch are found in the Ethiopian canon: JUB, ENO"
   ]
  },
  {
   "cell_type": "markdown",
   "metadata": {},
   "source": [
    "How many chapters are there in Genesis?"
   ]
  },
  {
   "cell_type": "code",
   "execution_count": 45,
   "metadata": {},
   "outputs": [
    {
     "name": "stdout",
     "output_type": "stream",
     "text": [
      "50\n"
     ]
    }
   ],
   "source": [
    "    print(len(org[\"maxVerses\"][\"GEN\"]))"
   ]
  },
  {
   "cell_type": "markdown",
   "metadata": {},
   "source": [
    "How many verses are there in each chapter of Genesis?"
   ]
  },
  {
   "cell_type": "code",
   "execution_count": 36,
   "metadata": {},
   "outputs": [
    {
     "name": "stdout",
     "output_type": "stream",
     "text": [
      "['31', '25', '24', '26', '32', '22', '24', '22', '29', '32', '32', '20', '18', '24', '21', '16', '27', '33', '38', '18', '34', '24', '20', '67', '34', '35', '46', '22', '35', '43', '54', '33', '20', '31', '29', '43', '36', '30', '23', '23', '57', '38', '34', '34', '28', '34', '31', '22', '33', '26']\n"
     ]
    }
   ],
   "source": [
    "     print(org[\"maxVerses\"][\"GEN\"])"
   ]
  },
  {
   "cell_type": "markdown",
   "metadata": {},
   "source": [
    "How many verses are there in the first chapter of Genesis?"
   ]
  },
  {
   "cell_type": "code",
   "execution_count": 40,
   "metadata": {},
   "outputs": [
    {
     "name": "stdout",
     "output_type": "stream",
     "text": [
      "31\n"
     ]
    }
   ],
   "source": [
    "    print(org[\"maxVerses\"][\"GEN\"][0])"
   ]
  },
  {
   "cell_type": "markdown",
   "metadata": {},
   "source": [
    "## `mappedVerses`\n",
    "\n",
    "S3Y is a small section of the DAG LXX pulled out and translated as a separate book. `org.json` maps it back to the LXX.  This section allow's texts such as TOB (French) which do this to scroll correctly with the LXX. S3Y is not present in the GRK, HEB, or LXX(Ralphs) text."
   ]
  },
  {
   "cell_type": "code",
   "execution_count": 47,
   "metadata": {},
   "outputs": [
    {
     "name": "stdout",
     "output_type": "stream",
     "text": [
      "{'S3Y 1:1-29': 'DAG 3:24-52', 'S3Y 1:30-31': 'DAG 3:52-53', 'S3Y 1:33': 'DAG 3:54', 'S3Y 1:32': 'DAG 3:55', 'S3Y 1:34-35': 'DAG 3:56-57', 'S3Y 1:37': 'DAG 3:58', 'S3Y 1:36': 'DAG 3:59', 'S3Y 1:38-68': 'DAG 3:60-90'}\n"
     ]
    }
   ],
   "source": [
    "    print(org[\"mappedVerses\"])"
   ]
  },
  {
   "cell_type": "markdown",
   "metadata": {},
   "source": [
    "## `excludedVerses`   - DOES THIS BELONG IN ORG.JSON?"
   ]
  },
  {
   "cell_type": "code",
   "execution_count": 49,
   "metadata": {},
   "outputs": [
    {
     "name": "stdout",
     "output_type": "stream",
     "text": [
      "[]\n"
     ]
    }
   ],
   "source": [
    "    print(org[\"excludedVerses\"])"
   ]
  },
  {
   "cell_type": "markdown",
   "metadata": {},
   "source": [
    "## `partialVerses`  - DOES THIS BELONG IN ORG.JSON?"
   ]
  },
  {
   "cell_type": "code",
   "execution_count": 50,
   "metadata": {},
   "outputs": [
    {
     "name": "stdout",
     "output_type": "stream",
     "text": [
      "{}\n"
     ]
    }
   ],
   "source": [
    "    print(org[\"partialVerses\"])"
   ]
  },
  {
   "cell_type": "markdown",
   "metadata": {},
   "source": [
    "# Standard Mappings\n",
    "\n",
    "Let's explore standard mappings using `lxx.json`."
   ]
  },
  {
   "cell_type": "code",
   "execution_count": 62,
   "metadata": {},
   "outputs": [],
   "source": [
    "with open(\"standard-mappings/lxx.json\", \"r\") as read_file:\n",
    "    lxx = json.load(read_file)\n",
    "\n",
    "with open(\"standard-mappings/vul.json\", \"r\") as read_file:\n",
    "    vul = json.load(read_file)"
   ]
  },
  {
   "cell_type": "code",
   "execution_count": 58,
   "metadata": {},
   "outputs": [
    {
     "name": "stdout",
     "output_type": "stream",
     "text": [
      "dict_keys(['GEN', 'EXO', 'LEV', 'NUM', 'DEU', 'JOS', 'JDG', 'RUT', '1SA', '2SA', '1KI', '2KI', '1CH', '2CH', 'EZR', 'JOB', 'PSA', 'PRO', 'ECC', 'SNG', 'ISA', 'JER', 'LAM', 'EZK', 'HOS', 'JOL', 'AMO', 'OBA', 'JON', 'MIC', 'NAM', 'HAB', 'ZEP', 'HAG', 'ZEC', 'MAL', 'MAT', 'MRK', 'LUK', 'JHN', 'ACT', 'ROM', '1CO', '2CO', 'GAL', 'EPH', 'PHP', 'COL', '1TH', '2TH', '1TI', '2TI', 'TIT', 'PHM', 'HEB', 'JAS', '1PE', '2PE', '1JN', '2JN', '3JN', 'JUD', 'REV', 'TOB', 'JDT', 'ESG', 'WIS', 'SIR', 'BAR', 'LJE', 'SUS', 'BEL', '1MA', '2MA', '3MA', '4MA', '1ES', '2ES', 'MAN', 'PS2', 'ODA', 'PSS', 'JSA', 'JDB', 'TBS', 'SST', 'DNT', 'BLT', 'DAG'])\n"
     ]
    }
   ],
   "source": [
    "    print(lxx[\"maxVerses\"].keys())"
   ]
  },
  {
   "cell_type": "code",
   "execution_count": 63,
   "metadata": {},
   "outputs": [
    {
     "name": "stdout",
     "output_type": "stream",
     "text": [
      "dict_keys(['GEN', 'EXO', 'LEV', 'NUM', 'DEU', 'JOS', 'JDG', 'RUT', '1SA', '2SA', '1KI', '2KI', '1CH', '2CH', 'EZR', 'NEH', 'JOB', 'PSA', 'PRO', 'ECC', 'SNG', 'ISA', 'JER', 'LAM', 'EZK', 'DAN', 'HOS', 'JOL', 'AMO', 'OBA', 'JON', 'MIC', 'NAM', 'HAB', 'ZEP', 'HAG', 'ZEC', 'MAL', 'MAT', 'MRK', 'LUK', 'JHN', 'ACT', 'ROM', '1CO', '2CO', 'GAL', 'EPH', 'PHP', 'COL', '1TH', '2TH', '1TI', '2TI', 'TIT', 'PHM', 'HEB', 'JAS', '1PE', '2PE', '1JN', '2JN', '3JN', 'JUD', 'REV', 'TOB', 'JDT', 'ESG', 'WIS', 'SIR', 'BAR', 'LJE', 'S3Y', 'SUS', 'BEL', '1MA', '2MA', '3MA', '4MA', '1ES', '2ES', 'MAN', 'PS2', '6EZ', 'DAG', 'LAO'])\n"
     ]
    }
   ],
   "source": [
    "    print(vul[\"maxVerses\"].keys())"
   ]
  },
  {
   "cell_type": "code",
   "execution_count": 57,
   "metadata": {},
   "outputs": [
    {
     "name": "stdout",
     "output_type": "stream",
     "text": [
      "{'DAG 2:1-49': 'DAN 2:1-49', 'DAG 3:1-23': 'DAN 3:1-23', 'DAG 3:91-97': 'DAN 3:24-30', 'DAG 4:1-3': 'DAN 3:31-33', 'DAG 4:4-37': 'DAN 4:1-34', 'DAG 4:1-2': 'DAN 4:4-5', 'DAG 5:1-30': 'DAN 5:1-30', 'DAG 6:1-29': 'DAN 6:1-29', 'DAG 7:1-28': 'DAN 7:1-28', 'DAG 8:1-27': 'DAN 8:1-27', 'DAG 9:1-27': 'DAN 9:1-27', 'DAG 10:1-21': 'DAN 10:1-21', 'DAG 11:1-45': 'DAN 11:1-45', 'DAG 12:1-13': 'DAN 12:1-13', 'EXO 20:13': 'EXO 20:14', 'EXO 20:14': 'EXO 20:15', 'EXO 20:15': 'EXO 20:13', 'EXO 21:16': 'EXO 21:17', 'EXO 21:17': 'EXO 21:16', 'EXO 36:9': 'EXO 39:2', 'EXO 36:10': 'EXO 39:3', 'EXO 36:11': 'EXO 39:4', 'EXO 36:12': 'EXO 39:5', 'EXO 36:13': 'EXO 39:6', 'EXO 36:14': 'EXO 39:7', 'EXO 36:15': 'EXO 39:8', 'EXO 36:16': 'EXO 39:9', 'EXO 36:17': 'EXO 39:10', 'EXO 36:20': 'EXO 39:13', 'EXO 36:21': 'EXO 39:14', 'EXO 36:22': 'EXO 39:15', 'EXO 36:23': 'EXO 39:16', 'EXO 36:25': 'EXO 39:17', 'EXO 36:26': 'EXO 39:18', 'EXO 36:27': 'EXO 39:19', 'EXO 36:28': 'EXO 39:20', 'EXO 36:29': 'EXO 39:21', 'EXO 36:30': 'EXO 39:22', 'EXO 36:31': 'EXO 39:23', 'EXO 36:32': 'EXO 39:24', 'EXO 36:33': 'EXO 39:25', 'EXO 36:34': 'EXO 39:26', 'EXO 36:35': 'EXO 39:27', 'EXO 36:36': 'EXO 39:28', 'EXO 36:37': 'EXO 39:29', 'EXO 36:38': 'EXO 39:30', 'DEU 5:17': 'DEU 5:18', 'DEU 5:18': 'DEU 5:17', '1KI 21:1-43': '1KI 20:1-43', 'ESG 1:1-22': 'EST 1:1-22', 'ESG 2:1-23': 'EST 2:1-23', 'ESG 3:1-15': 'EST 3:1-15', 'ESG 4:1-17': 'EST 4:1-17', 'ESG 5:1-14': 'EST 5:1-14', 'ESG 6:1-14': 'EST 6:1-14', 'ESG 7:1-10': 'EST 7:1-10', 'ESG 8:1-17': 'EST 8:1-17', 'ESG 9:1-32': 'EST 9:1-32', 'ESG 10:1-3': 'EST 10:1-3', 'PSA 9:22': 'PSA 10:0', 'PSA 9:22-39': 'PSA 10:1-18', 'PSA 10:0-7': 'PSA 11:0-7', 'PSA 11:0-9': 'PSA 12:0-9', 'PSA 12:0-6': 'PSA 13:0-6', 'PSA 13:0-7': 'PSA 14:0-7', 'PSA 14:0-5': 'PSA 15:0-5', 'PSA 15:0-11': 'PSA 16:0-11', 'PSA 16:0-15': 'PSA 17:0-15', 'PSA 17:0-51': 'PSA 18:0-51', 'PSA 18:0-15': 'PSA 19:0-15', 'PSA 19:0-10': 'PSA 20:0-10', 'PSA 20:0-14': 'PSA 21:0-14', 'PSA 21:0-32': 'PSA 22:0-32', 'PSA 22:0-6': 'PSA 23:0-6', 'PSA 23:0-10': 'PSA 24:0-10', 'PSA 24:0-22': 'PSA 25:0-22', 'PSA 25:0-12': 'PSA 26:0-12', 'PSA 26:0-14': 'PSA 27:0-14', 'PSA 27:0-9': 'PSA 28:0-9', 'PSA 28:0-11': 'PSA 29:0-11', 'PSA 29:0-13': 'PSA 30:0-13', 'PSA 30:0-25': 'PSA 31:0-25', 'PSA 31:0-11': 'PSA 32:0-11', 'PSA 32:0-22': 'PSA 33:0-22', 'PSA 33:0-23': 'PSA 34:0-23', 'PSA 34:0-28': 'PSA 35:0-28', 'PSA 35:0-13': 'PSA 36:0-13', 'PSA 36:0-40': 'PSA 37:0-40', 'PSA 37:0-23': 'PSA 38:0-23', 'PSA 38:0-14': 'PSA 39:0-14', 'PSA 39:0-18': 'PSA 40:0-18', 'PSA 40:0-14': 'PSA 41:0-14', 'PSA 41:0-12': 'PSA 42:0-12', 'PSA 42:0-5': 'PSA 43:0-5', 'PSA 43:0-27': 'PSA 44:0-27', 'PSA 44:0-18': 'PSA 45:0-18', 'PSA 45:0-12': 'PSA 46:0-12', 'PSA 46:0-10': 'PSA 47:0-10', 'PSA 47:0-15': 'PSA 48:0-15', 'PSA 48:0-21': 'PSA 49:0-21', 'PSA 49:0-23': 'PSA 50:0-23', 'PSA 50:0-21': 'PSA 51:0-21', 'PSA 51:0-11': 'PSA 52:0-11', 'PSA 52:0-7': 'PSA 53:0-7', 'PSA 53:0-9': 'PSA 54:0-9', 'PSA 54:0-24': 'PSA 55:0-24', 'PSA 55:0-14': 'PSA 56:0-14', 'PSA 56:0-12': 'PSA 57:0-12', 'PSA 57:0-12': 'PSA 58:0-12', 'PSA 58:0-18': 'PSA 59:0-18', 'PSA 59:0-14': 'PSA 60:0-14', 'PSA 60:0-9': 'PSA 61:0-9', 'PSA 61:0-13': 'PSA 62:0-13', 'PSA 62:0-12': 'PSA 63:0-12', 'PSA 63:0-11': 'PSA 64:0-11', 'PSA 64:0-14': 'PSA 65:0-14', 'PSA 65:0-20': 'PSA 66:0-20', 'PSA 66:0-8': 'PSA 67:0-8', 'PSA 67:0-36': 'PSA 68:0-36', 'PSA 68:0-37': 'PSA 69:0-37', 'PSA 69:0-6': 'PSA 70:0-6', 'PSA 70:0-24': 'PSA 71:0-24', 'PSA 71:0-20': 'PSA 72:0-20', 'PSA 72:0-28': 'PSA 73:0-28', 'PSA 73:0-23': 'PSA 74:0-23', 'PSA 74:0-11': 'PSA 75:0-11', 'PSA 75:0-13': 'PSA 76:0-13', 'PSA 76:0-21': 'PSA 77:0-21', 'PSA 77:0-72': 'PSA 78:0-72', 'PSA 78:0-13': 'PSA 79:0-13', 'PSA 79:0-20': 'PSA 80:0-20', 'PSA 80:0-17': 'PSA 81:0-17', 'PSA 81:0-8': 'PSA 82:0-8', 'PSA 82:0-19': 'PSA 83:0-19', 'PSA 83:0-13': 'PSA 84:0-13', 'PSA 84:0-14': 'PSA 85:0-14', 'PSA 85:0-17': 'PSA 86:0-17', 'PSA 86:0-7': 'PSA 87:0-7', 'PSA 87:0-19': 'PSA 88:0-19', 'PSA 88:0-53': 'PSA 89:0-53', 'PSA 89:0-17': 'PSA 90:0-17', 'PSA 90:0-16': 'PSA 91:0-16', 'PSA 91:0-16': 'PSA 92:0-16', 'PSA 92:0-5': 'PSA 93:0-5', 'PSA 93:0-23': 'PSA 94:0-23', 'PSA 94:0-11': 'PSA 95:0-11', 'PSA 95:0-13': 'PSA 96:0-13', 'PSA 96:0-12': 'PSA 97:0-12', 'PSA 97:0-9': 'PSA 98:0-9', 'PSA 98:0-9': 'PSA 99:0-9', 'PSA 99:0-5': 'PSA 100:0-5', 'PSA 100:0-8': 'PSA 101:0-8', 'PSA 101:0-29': 'PSA 102:0-29', 'PSA 102:0-22': 'PSA 103:0-22', 'PSA 103:0-35': 'PSA 104:0-35', 'PSA 104:0-45': 'PSA 105:0-45', 'PSA 105:0-48': 'PSA 106:0-48', 'PSA 106:0-43': 'PSA 107:0-43', 'PSA 107:0-14': 'PSA 108:0-14', 'PSA 108:0-31': 'PSA 109:0-31', 'PSA 109:0-7': 'PSA 110:0-7', 'PSA 110:0-10': 'PSA 111:0-10', 'PSA 111:0-10': 'PSA 112:0-10', 'PSA 112:0-9': 'PSA 113:0-9', 'PSA 113:0-8': 'PSA 114:0-8', 'PSA 113:9': 'PSA 115:0', 'PSA 113:9-26': 'PSA 115:1-18', 'PSA 114:0-9': 'PSA 116:0-9', 'PSA 115:0': 'PSA 116:10', 'PSA 116:0-2': 'PSA 117:0-2', 'PSA 117:0-29': 'PSA 118:0-29', 'PSA 118:0-176': 'PSA 119:0-176', 'PSA 119:0-7': 'PSA 120:0-7', 'PSA 120:0-8': 'PSA 121:0-8', 'PSA 121:0-9': 'PSA 122:0-9', 'PSA 122:0-4': 'PSA 123:0-4', 'PSA 123:0-8': 'PSA 124:0-8', 'PSA 124:0-5': 'PSA 125:0-5', 'PSA 125:0-6': 'PSA 126:0-6', 'PSA 126:0-5': 'PSA 127:0-5', 'PSA 127:0-6': 'PSA 128:0-6', 'PSA 128:0-8': 'PSA 129:0-8', 'PSA 129:0-8': 'PSA 130:0-8', 'PSA 130:0-3': 'PSA 131:0-3', 'PSA 131:0-18': 'PSA 132:0-18', 'PSA 132:0-3': 'PSA 133:0-3', 'PSA 133:0-3': 'PSA 134:0-3', 'PSA 134:0-21': 'PSA 135:0-21', 'PSA 135:0-26': 'PSA 136:0-26', 'PSA 136:0-9': 'PSA 137:0-9', 'PSA 137:0-8': 'PSA 138:0-8', 'PSA 138:0-24': 'PSA 139:0-24', 'PSA 139:0-14': 'PSA 140:0-14', 'PSA 140:0-10': 'PSA 141:0-10', 'PSA 141:0-8': 'PSA 142:0-8', 'PSA 142:0-12': 'PSA 143:0-12', 'PSA 143:0-15': 'PSA 144:0-15', 'PSA 144:0-21': 'PSA 145:0-21', 'PSA 145:0-10': 'PSA 146:0-10', 'PSA 146:0-11': 'PSA 147:0-11', 'PSA 147:0': 'PSA 147:12', 'PSA 147:1-9': 'PSA 147:12-20', 'PSA 151:0-7': 'PS2 1:0-7', 'JER 25:14-19': 'JER 49:34-39', 'JER 25:20': 'JER 49:34', 'JER 26:1-28': 'JER 46:1-28', 'JER 27:1-46': 'JER 50:1-46', 'JER 28:1-64': 'JER 51:1-64', 'JER 29:1-7': 'JER 47:1-7', 'JER 30:1-16': 'JER 49:7-22', 'JER 30:17-22': 'JER 49:1-6', 'JER 30:23-28': 'JER 49:28-33', 'JER 30:29-33': 'JER 49:23-27', 'JER 31:1-44': 'JER 48:1-44', 'JER 32:13': 'JER 25:13', 'JER 32:15-38': 'JER 25:15-38', 'JER 33:1-24': 'JER 26:1-24', 'JER 34:1-22': 'JER 27:1-22', 'JER 35:1-17': 'JER 28:1-17', 'JER 36:1-32': 'JER 29:1-32', 'JER 37:1-24': 'JER 30:1-24', 'JER 38:1-40': 'JER 31:1-40', 'JER 39:1-44': 'JER 32:1-44', 'JER 40:1-13': 'JER 33:1-13', 'JER 41:1-22': 'JER 34:1-22', 'JER 42:1-19': 'JER 35:1-19', 'JER 43:1-32': 'JER 36:1-32', 'JER 44:1-21': 'JER 37:1-21', 'JER 45:1-28': 'JER 38:1-28', 'JER 46:1-3': 'JER 39:1-3', 'JER 46:14-18': 'JER 39:14-18', 'JER 47:1-16': 'JER 40:1-16', 'JER 48:1-18': 'JER 41:1-18', 'JER 49:1-22': 'JER 42:1-22', 'JER 50:1-13': 'JER 43:1-13', 'JER 51:1-30': 'JER 44:1-30', 'JER 51:31-35': 'JER 45:1-5', 'DAG 1:1-21': 'DAN 1:1-21', 'DAG 5:1-31': 'DAN 5:1-31', 'DAG 6:1-28': 'DAN 6:1-28', 'EZR 11:1-11': 'NEH 1:1-11', 'EZR 12:1-20': 'NEH 2:1-20', 'EZR 13:1-38': 'NEH 3:1-38', 'EZR 14:1-17': 'NEH 4:1-17', 'EZR 15:1-19': 'NEH 5:1-19', 'EZR 16:1-19': 'NEH 6:1-19', 'EZR 17:1-72': 'NEH 7:1-72', 'EZR 18:1-18': 'NEH 8:1-18', 'EZR 19:1-37': 'NEH 9:1-37', 'EZR 20:1-40': 'NEH 10:1-40', 'EZR 21:1-36': 'NEH 11:1-36', 'EZR 22:1-47': 'NEH 12:1-47', 'EZR 23:1-31': 'NEH 13:1-31', '2ES 3:1-36': 'EZA 1:1-36', '2ES 4:1-52': 'EZA 2:1-52', '2ES 5:1-56': 'EZA 3:1-56', '2ES 6:1-59': 'EZA 4:1-59', '2ES 7:1-35': 'EZA 5:1-35', '2ES 7:106-140': 'EZA 5:36-70', '2ES 8:1-63': 'EZA 6:1-63', '2ES 9:1-47': 'EZA 7:1-47', '2ES 10:1-60': 'EZA 8:1-60', '2ES 11:1-46': 'EZA 9:1-46', '2ES 12:1-51': 'EZA 10:1-51', '2ES 13:1-58': 'EZA 11:1-58', '2ES 14:1-48': 'EZA 12:1-48'}\n"
     ]
    }
   ],
   "source": [
    "    print(lxx['mappedVerses'])"
   ]
  },
  {
   "cell_type": "code",
   "execution_count": 56,
   "metadata": {},
   "outputs": [
    {
     "name": "stdout",
     "output_type": "stream",
     "text": [
      "{'EXO 28:29': ['-', 'a '], 'EXO 35:12': ['-', 'a '], 'JOS 9:2': ['-', 'a', 'b', 'c', 'd', 'e', 'f '], 'JOS 15:59': ['-', 'a '], 'JOS 19:47': ['-', 'a '], 'JOS 19:48': ['-', 'a '], 'JOS 21:42': ['-', 'a', 'b', 'c', 'd '], 'JOS 24:31': ['-', 'a '], 'JOS 24:33': ['-', 'a', 'b '], '1SA 30:28': ['-', 'a '], '2SA 5:16': ['-', 'a '], '1KI 2:35': ['-', 'a', 'b', 'c', 'd', 'e', 'f', 'g', 'h', 'i', 'k', 'l', 'm', 'n', 'o '], '1KI 2:46': ['-', 'a', 'b', 'c', 'd', 'e', 'f', 'g', 'h', 'i', 'k', 'l '], '1KI 5:14': ['-', 'a', 'b '], '1KI 6:1': ['-', 'a', 'b', 'c', 'd '], '1KI 6:36': ['-', 'a '], '1KI 8:53': ['-', 'a '], '1KI 9:9': ['-', 'a '], '1KI 10:22': ['-', 'a', 'b', 'c '], '1KI 10:26': ['-', 'a '], '1KI 12:24': ['-', 'a', 'b', 'c', 'd', 'e', 'f', 'g', 'h', 'i', 'k', 'l', 'm', 'n', 'o', 'p', 'q', 'r', 's', 't', 'u', 'x', 'y', 'z '], '1KI 16:28': ['-', 'a', 'b', 'c', 'd', 'e', 'f', 'g', 'h '], '2KI 1:18': ['-', 'a', 'b', 'c', 'd '], '2CH 35:19': ['-', 'a', 'b', 'c', 'd '], '2CH 36:2': ['-', 'a', 'b', 'c '], '2CH 36:4': ['-', 'a '], '2CH 36:5': ['-', 'a', 'b', 'c', 'd '], 'JOB 2:9': ['-', 'a', 'b', 'c', 'd', 'e '], 'JOB 19:4': ['-', 'a '], 'JOB 23:15': ['-', 'a '], 'JOB 36:28': ['-', 'a', 'b '], 'JOB 42:17': ['-', 'a', 'b', 'c', 'd', 'e '], 'PSA 144:13': ['-', 'a '], 'PRO 3:16': ['-', 'a '], 'PRO 3:22': ['-', 'a '], 'PRO 4:27': ['-', 'a', 'b '], 'PRO 6:8': ['-', 'a', 'b', 'c '], 'PRO 6:11': ['-', 'a '], 'PRO 7:1': ['-', 'a '], 'PRO 8:21': ['-', 'a '], 'PRO 9:10': ['-', 'a '], 'PRO 9:12': ['-', 'a', 'b', 'c '], 'PRO 9:18': ['-', 'a', 'b', 'c', 'd '], 'PRO 10:4': ['-', 'a '], 'PRO 12:11': ['-', 'a '], 'PRO 12:13': ['-', 'a '], 'PRO 13:9': ['-', 'a '], 'PRO 13:13': ['-', 'a '], 'PRO 15:18': ['-', 'a '], 'PRO 15:27': ['-', 'a '], 'PRO 15:28': ['-', 'a '], 'PRO 15:29': ['-', 'a', 'b '], 'PRO 17:6': ['-', 'a '], 'PRO 17:16': ['-', 'a '], 'PRO 18:22': ['-', 'a '], 'PRO 20:9': ['-', 'a', 'b', 'c '], 'PRO 22:8': ['-', 'a '], 'PRO 22:9': ['-', 'a '], 'PRO 22:14': ['-', 'a '], 'PRO 24:22': ['-', 'a', 'b', 'c', 'd', 'e '], 'PRO 25:10': ['-', 'a '], 'PRO 25:20': ['-', 'a '], 'PRO 26:11': ['-', 'a '], 'PRO 27:20': ['-', 'a '], 'PRO 27:21': ['-', 'a '], 'PRO 28:17': ['-', 'a '], 'ESG 1:1': ['-', 'b', 'c', 'd', 'e', 'f', 'g', 'h', 'i', 'k', 'l', 'm', 'n', 'o', 'p', 'q', 'r', 's '], 'ESG 3:13': ['-', 'a', 'b', 'c', 'd', 'e', 'f', 'g '], 'ESG 4:17': ['-', 'a', 'b', 'c', 'd', 'e', 'f', 'g', 'h', 'i', 'k', 'l', 'm', 'n', 'o', 'p', 'q', 'r', 's', 't', 'u', 'w', 'x', 'y', 'z '], 'ESG 5:1': ['-', 'a', 'b', 'c', 'd', 'e', 'f '], 'ESG 5:2': ['-', 'a', 'b '], 'ESG 8:12': ['-', 'a', 'b', 'c', 'd', 'e', 'f', 'g', 'h', 'i', 'k', 'l', 'm', 'n', 'o', 'p', 'q', 'r', 's', 't', 'u', 'x '], 'ESG 10:3': ['-', 'a', 'b', 'c', 'd', 'e', 'f', 'g', 'h', 'i', 'k', 'l '], 'SIR 1:1': ['-', 'a', 'b', 'c', 'd', 'e', 'f', 'g', 'h ']}\n"
     ]
    }
   ],
   "source": [
    "    print(lxx['partialVerses'])"
   ]
  }
 ],
 "metadata": {
  "kernelspec": {
   "display_name": "Python 3",
   "language": "python",
   "name": "python3"
  },
  "language_info": {
   "codemirror_mode": {
    "name": "ipython",
    "version": 3
   },
   "file_extension": ".py",
   "mimetype": "text/x-python",
   "name": "python",
   "nbconvert_exporter": "python",
   "pygments_lexer": "ipython3",
   "version": "3.7.5"
  },
  "toc": {
   "nav_menu": {},
   "number_sections": true,
   "sideBar": true,
   "skip_h1_title": false,
   "toc_cell": false,
   "toc_position": {},
   "toc_section_display": "block",
   "toc_window_display": false
  }
 },
 "nbformat": 4,
 "nbformat_minor": 2
}
